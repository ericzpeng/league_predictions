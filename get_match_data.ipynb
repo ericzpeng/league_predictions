{
 "cells": [
  {
   "cell_type": "code",
   "execution_count": 36,
   "id": "6df54770-268a-4b7e-b875-2923d6968399",
   "metadata": {},
   "outputs": [],
   "source": [
    "import pickle\n",
    "import pandas as pd\n",
    "from time import sleep\n",
    "from time import time\n",
    "from riotwatcher import LolWatcher, ApiError"
   ]
  },
  {
   "cell_type": "code",
   "execution_count": 37,
   "id": "a35be066-dcef-46d4-96b4-70c10ee26253",
   "metadata": {},
   "outputs": [],
   "source": [
    "def getAPIkey():\n",
    "    f = open('./api_key.txt', 'r')\n",
    "    return f.read()"
   ]
  },
  {
   "cell_type": "code",
   "execution_count": 38,
   "id": "69960039-5a7a-4813-9eee-5633a56a522e",
   "metadata": {},
   "outputs": [],
   "source": [
    "#Set API for API calls\n",
    "watcher = LolWatcher(getAPIkey())"
   ]
  },
  {
   "cell_type": "code",
   "execution_count": 39,
   "id": "3ae60a54-be65-42f9-86c0-e4e64dc76caf",
   "metadata": {},
   "outputs": [],
   "source": [
    "region = 'na1'\n",
    "queue = 'RANKED_SOLO_5x5'"
   ]
  },
  {
   "cell_type": "code",
   "execution_count": 40,
   "id": "a81fd3ef-daea-4eeb-b95e-bbde49d660c0",
   "metadata": {},
   "outputs": [],
   "source": [
    "#Make sure to update the challenger_summoners.pickle file\n",
    "with open('./data/all_match_ids.pickle', 'rb') as handle:\n",
    "    all_match_ids = pickle.load(handle)"
   ]
  },
  {
   "cell_type": "code",
   "execution_count": 41,
   "id": "45213e53-26cc-4016-9a3a-b32c9f03cba5",
   "metadata": {},
   "outputs": [
    {
     "name": "stdout",
     "output_type": "stream",
     "text": [
      "13949\n"
     ]
    }
   ],
   "source": [
    "print(len(all_match_ids))"
   ]
  },
  {
   "cell_type": "code",
   "execution_count": 42,
   "id": "f5ea3962-bdb4-403d-b946-3eee65b2f4d1",
   "metadata": {},
   "outputs": [],
   "source": [
    "def get_match_data(all_match_ids, i, region):\n",
    "    start = time()\n",
    "    batch_matches = []\n",
    "    for match_id in all_match_ids[i*1250:(i+1)*1250]:\n",
    "        match_timeline = watcher.match.timeline_by_match(region, match_id)\n",
    "        match = watcher.match.by_id(region, match_id)\n",
    "        batch_matches.append((match,match_timeline))\n",
    "    end = time()\n",
    "    time_to_finish = end - start\n",
    "    \n",
    "    print(f'Time to Finish: {time_to_finish}')\n",
    "    return batch_matches"
   ]
  },
  {
   "cell_type": "code",
   "execution_count": 21,
   "id": "bdb8800e-2861-4149-9684-ae1f93836f2a",
   "metadata": {},
   "outputs": [
    {
     "name": "stdout",
     "output_type": "stream",
     "text": [
      "Time to Finish: 2917.161518096924\n"
     ]
    }
   ],
   "source": [
    "matches1 = get_match_data(all_match_ids, 0, region)\n",
    "with open('matches1.pickle', 'wb') as handle:\n",
    "    pickle.dump(matches1, handle, protocol=pickle.HIGHEST_PROTOCOL)"
   ]
  },
  {
   "cell_type": "code",
   "execution_count": 22,
   "id": "cbdc6be2-b7c7-44f0-a4c9-70670bc9aa29",
   "metadata": {},
   "outputs": [
    {
     "name": "stdout",
     "output_type": "stream",
     "text": [
      "Time to Finish: 2916.0309932231903\n"
     ]
    }
   ],
   "source": [
    "matches2 = get_match_data(all_match_ids, 1, region)\n",
    "with open('matches2.pickle', 'wb') as handle:\n",
    "    pickle.dump(matches2, handle, protocol=pickle.HIGHEST_PROTOCOL)"
   ]
  },
  {
   "cell_type": "code",
   "execution_count": 32,
   "id": "7844c3d4-93fa-4168-b44d-b018ea035bb5",
   "metadata": {},
   "outputs": [
    {
     "name": "stdout",
     "output_type": "stream",
     "text": [
      "Time to Finish: 2916.1484463214874\n"
     ]
    }
   ],
   "source": [
    "matches3 = get_match_data(all_match_ids, 2, region)\n",
    "with open('matches3.pickle', 'wb') as handle:\n",
    "    pickle.dump(matches3, handle, protocol=pickle.HIGHEST_PROTOCOL)"
   ]
  },
  {
   "cell_type": "code",
   "execution_count": 33,
   "id": "b4b689ef-f7fd-4515-a1b0-9228b393243e",
   "metadata": {},
   "outputs": [
    {
     "name": "stdout",
     "output_type": "stream",
     "text": [
      "Time to Finish: 3004.5471217632294\n"
     ]
    }
   ],
   "source": [
    "matches4 = get_match_data(all_match_ids, 3, region)\n",
    "with open('matches4.pickle', 'wb') as handle:\n",
    "    pickle.dump(matches4, handle, protocol=pickle.HIGHEST_PROTOCOL)"
   ]
  },
  {
   "cell_type": "code",
   "execution_count": 34,
   "id": "97e49ca4-bcf8-449e-aa98-bcc2a048306d",
   "metadata": {},
   "outputs": [
    {
     "name": "stdout",
     "output_type": "stream",
     "text": [
      "Time to Finish: 3007.765468597412\n"
     ]
    }
   ],
   "source": [
    "matches5 = get_match_data(all_match_ids, 4, region)\n",
    "with open('matches5.pickle', 'wb') as handle:\n",
    "    pickle.dump(matches5, handle, protocol=pickle.HIGHEST_PROTOCOL)"
   ]
  },
  {
   "cell_type": "code",
   "execution_count": 43,
   "id": "11286ada-f444-4012-8c0f-0e901423f5a4",
   "metadata": {},
   "outputs": [
    {
     "name": "stdout",
     "output_type": "stream",
     "text": [
      "Time to Finish: 2916.8517203330994\n"
     ]
    }
   ],
   "source": [
    "matches6 = get_match_data(all_match_ids, 5, region)\n",
    "with open('matches6.pickle', 'wb') as handle:\n",
    "    pickle.dump(matches6, handle, protocol=pickle.HIGHEST_PROTOCOL)"
   ]
  },
  {
   "cell_type": "code",
   "execution_count": 44,
   "id": "5beb9bf7-3bba-4304-af13-2956f37f2195",
   "metadata": {},
   "outputs": [
    {
     "name": "stdout",
     "output_type": "stream",
     "text": [
      "Time to Finish: 3178.457275867462\n"
     ]
    }
   ],
   "source": [
    "matches7 = get_match_data(all_match_ids, 6, region)\n",
    "with open('matches7.pickle', 'wb') as handle:\n",
    "    pickle.dump(matches7, handle, protocol=pickle.HIGHEST_PROTOCOL)"
   ]
  },
  {
   "cell_type": "code",
   "execution_count": 45,
   "id": "bdb0aeed-7458-421b-93d3-217689fff5f8",
   "metadata": {},
   "outputs": [
    {
     "name": "stdout",
     "output_type": "stream",
     "text": [
      "Time to Finish: 2999.3812232017517\n"
     ]
    }
   ],
   "source": [
    "matches8 = get_match_data(all_match_ids, 7, region)\n",
    "with open('matches8.pickle', 'wb') as handle:\n",
    "    pickle.dump(matches8, handle, protocol=pickle.HIGHEST_PROTOCOL)"
   ]
  },
  {
   "cell_type": "code",
   "execution_count": 46,
   "id": "a3c52ab8-a13f-46f3-a060-f14686113acd",
   "metadata": {},
   "outputs": [
    {
     "name": "stdout",
     "output_type": "stream",
     "text": [
      "Time to Finish: 3232.7302436828613\n"
     ]
    }
   ],
   "source": [
    "matches9 = get_match_data(all_match_ids, 8, region)\n",
    "with open('matches9.pickle', 'wb') as handle:\n",
    "    pickle.dump(matches9, handle, protocol=pickle.HIGHEST_PROTOCOL)"
   ]
  },
  {
   "cell_type": "code",
   "execution_count": 47,
   "id": "f8689c76-fd2e-40fd-a400-b039955ef512",
   "metadata": {},
   "outputs": [
    {
     "name": "stdout",
     "output_type": "stream",
     "text": [
      "Time to Finish: 2999.9727585315704\n"
     ]
    }
   ],
   "source": [
    "matches10 = get_match_data(all_match_ids, 9, region)\n",
    "with open('matches10.pickle', 'wb') as handle:\n",
    "    pickle.dump(matches10, handle, protocol=pickle.HIGHEST_PROTOCOL)"
   ]
  },
  {
   "cell_type": "code",
   "execution_count": null,
   "id": "c8a69991-c9cc-48c5-a881-977e4e3f33e7",
   "metadata": {},
   "outputs": [],
   "source": [
    "matches = matches1 + matches2 + matches3 + matches4 + matches5 + matches6 + matches7+ matches8 + matches9 + matches10"
   ]
  },
  {
   "cell_type": "code",
   "execution_count": null,
   "id": "70492a56-561a-4208-86b0-61c688469591",
   "metadata": {},
   "outputs": [],
   "source": [
    "len(matches)"
   ]
  },
  {
   "cell_type": "code",
   "execution_count": null,
   "id": "8e3b0293-c70b-4dd4-ad3a-ade417a167a6",
   "metadata": {},
   "outputs": [],
   "source": []
  }
 ],
 "metadata": {
  "kernelspec": {
   "display_name": "Python 3 (ipykernel)",
   "language": "python",
   "name": "python3"
  },
  "language_info": {
   "codemirror_mode": {
    "name": "ipython",
    "version": 3
   },
   "file_extension": ".py",
   "mimetype": "text/x-python",
   "name": "python",
   "nbconvert_exporter": "python",
   "pygments_lexer": "ipython3",
   "version": "3.9.13"
  }
 },
 "nbformat": 4,
 "nbformat_minor": 5
}
