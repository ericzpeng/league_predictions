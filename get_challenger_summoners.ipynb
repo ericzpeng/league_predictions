{
 "cells": [
  {
   "cell_type": "code",
   "execution_count": 1,
   "id": "1d20c470-8cb9-4d30-842b-6508c867d316",
   "metadata": {},
   "outputs": [],
   "source": [
    "import pickle\n",
    "from riotwatcher import LolWatcher, ApiError"
   ]
  },
  {
   "cell_type": "code",
   "execution_count": 2,
   "id": "1250b05b-3c23-4e83-a120-6f85c8e339c2",
   "metadata": {},
   "outputs": [],
   "source": [
    "def getAPIkey():\n",
    "    f = open('./api_key.txt', 'r')\n",
    "    return f.read()\n",
    "\n",
    "#Set API for API calls\n",
    "watcher = LolWatcher(getAPIkey())"
   ]
  },
  {
   "cell_type": "code",
   "execution_count": 3,
   "id": "75a3943d-f2ee-4dc3-be4d-d1b18e2befd2",
   "metadata": {},
   "outputs": [],
   "source": [
    "region = 'na1'\n",
    "queue = 'RANKED_SOLO_5x5'"
   ]
  },
  {
   "cell_type": "code",
   "execution_count": null,
   "id": "621e7e02-4a29-4d89-818c-305deb67b56b",
   "metadata": {},
   "outputs": [],
   "source": [
    "#Get Challenger Names\n",
    "challenger_entries = watcher.league.challenger_by_queue(region=region, queue=queue)['entries']\n",
    "challenger_players = [watcher.summoner.by_id(region, entry['summonerId']) for entry in challenger_entries]"
   ]
  },
  {
   "cell_type": "code",
   "execution_count": null,
   "id": "396df309-68a7-462a-b7d9-5f8f2616384e",
   "metadata": {},
   "outputs": [],
   "source": [
    "with open('challenger_summoners.pickle', 'wb') as handle:\n",
    "    pickle.dump(challenger_players, handle, protocol=pickle.HIGHEST_PROTOCOL)"
   ]
  }
 ],
 "metadata": {
  "kernelspec": {
   "display_name": "Python 3 (ipykernel)",
   "language": "python",
   "name": "python3"
  },
  "language_info": {
   "codemirror_mode": {
    "name": "ipython",
    "version": 3
   },
   "file_extension": ".py",
   "mimetype": "text/x-python",
   "name": "python",
   "nbconvert_exporter": "python",
   "pygments_lexer": "ipython3",
   "version": "3.9.13"
  }
 },
 "nbformat": 4,
 "nbformat_minor": 5
}
