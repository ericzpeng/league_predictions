{
 "cells": [
  {
   "cell_type": "code",
   "execution_count": null,
   "id": "edda59db-9881-4483-a9a3-39ab714c1ff8",
   "metadata": {},
   "outputs": [],
   "source": [
    "import pickle\n",
    "import pandas as pd\n",
    "from time import sleep\n",
    "from time import time\n",
    "from riotwatcher import LolWatcher, ApiError"
   ]
  },
  {
   "cell_type": "code",
   "execution_count": null,
   "id": "fedea8d4-72b6-423f-a971-f62d37040fcf",
   "metadata": {},
   "outputs": [],
   "source": [
    "def getAPIkey():\n",
    "    f = open('./api_key.txt', 'r')\n",
    "    return f.read()"
   ]
  },
  {
   "cell_type": "code",
   "execution_count": null,
   "id": "90a2c457-4b59-4a3c-9c2b-20d2636e3d25",
   "metadata": {},
   "outputs": [],
   "source": [
    "#Set API for API calls\n",
    "watcher = LolWatcher(getAPIkey())"
   ]
  },
  {
   "cell_type": "code",
   "execution_count": null,
   "id": "223c0788-5aa7-4f1b-aefb-069b4ccd0f57",
   "metadata": {},
   "outputs": [],
   "source": [
    "region = 'na1'\n",
    "queue = 'RANKED_SOLO_5x5'\n",
    "queue_id = 420"
   ]
  },
  {
   "cell_type": "code",
   "execution_count": null,
   "id": "ce5bca0c-4236-4489-a67f-17f995721ee8",
   "metadata": {},
   "outputs": [],
   "source": [
    "#Make sure to update the challenger_summoners.pickle file\n",
    "with open('./challenger_summoners.pickle', 'rb') as handle:\n",
    "    challengerLst = pickle.load(handle)"
   ]
  },
  {
   "cell_type": "code",
   "execution_count": null,
   "id": "0613b549-d441-46c7-9ce2-51248e64f118",
   "metadata": {},
   "outputs": [],
   "source": [
    "all_matches_ids_set = set()\n",
    "for summoner in challengerLst:\n",
    "    match_lst = watcher.match.matchlist_by_puuid(region, summoner['puuid'], queue=queue_id, start=0, count=100)\n",
    "    all_matches_ids_set.update(match_lst)"
   ]
  },
  {
   "cell_type": "code",
   "execution_count": null,
   "id": "e84df487-b557-413b-835e-601b6c98488d",
   "metadata": {},
   "outputs": [],
   "source": [
    "print(len(all_matches_ids_set))"
   ]
  },
  {
   "cell_type": "code",
   "execution_count": null,
   "id": "6d637e3d-f3b4-4456-9dbd-18d9fdf0d90a",
   "metadata": {},
   "outputs": [],
   "source": [
    "all_match_ids = list(all_matches_ids_set)"
   ]
  },
  {
   "cell_type": "code",
   "execution_count": null,
   "id": "7fe02631-bab9-4ca2-8f18-e263186d7657",
   "metadata": {},
   "outputs": [],
   "source": [
    "with open('all_match_ids.pickle', 'wb') as handle:\n",
    "    pickle.dump(all_match_ids, handle, protocol=pickle.HIGHEST_PROTOCOL)"
   ]
  },
  {
   "cell_type": "code",
   "execution_count": null,
   "id": "9ba2df50-8e1b-4cd6-b0a5-f865973bce49",
   "metadata": {},
   "outputs": [],
   "source": []
  }
 ],
 "metadata": {
  "kernelspec": {
   "display_name": "Python 3 (ipykernel)",
   "language": "python",
   "name": "python3"
  },
  "language_info": {
   "codemirror_mode": {
    "name": "ipython",
    "version": 3
   },
   "file_extension": ".py",
   "mimetype": "text/x-python",
   "name": "python",
   "nbconvert_exporter": "python",
   "pygments_lexer": "ipython3",
   "version": "3.9.13"
  }
 },
 "nbformat": 4,
 "nbformat_minor": 5
}
