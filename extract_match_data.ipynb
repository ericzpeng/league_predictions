{
 "cells": [
  {
   "cell_type": "code",
   "execution_count": 1,
   "id": "fb24d888-7f46-4227-945b-0d0fb79e135c",
   "metadata": {},
   "outputs": [],
   "source": [
    "import pickle\n",
    "import pandas as pd"
   ]
  },
  {
   "cell_type": "code",
   "execution_count": 36,
   "id": "30e8759a-5fbe-4096-b43c-812d01b27a99",
   "metadata": {},
   "outputs": [],
   "source": [
    "#Convert match dictionary data to match frame dataframe with features\n",
    "def extract_match_df(matches):\n",
    "    win_col = []\n",
    "    match_id_col = []\n",
    "    blue_turr_down_col = []\n",
    "    red_turr_down_col = []\n",
    "    blue_team_gold_col = []\n",
    "    red_team_gold_col = []\n",
    "    blue_team_level_col = []\n",
    "    red_team_level_col = []\n",
    "    blue_team_damage_col = []\n",
    "    red_team_damage_col = []\n",
    "    blue_team_kills_col = []\n",
    "    red_team_kills_col = []\n",
    "    blue_team_drags_col = []\n",
    "    red_team_drags_col = []\n",
    "    blue_team_barons_col = []\n",
    "    red_team_barons_col = []\n",
    "    blue_team_inhibs_col = []\n",
    "    red_team_inhibs_col = []\n",
    "    frame_col = []\n",
    "    blue_team_participants = ['1','2','3','4','5']\n",
    "    red_team_participants = ['6', '7', '8', '9', '10']\n",
    "    \n",
    "    for match in matches:\n",
    "        match_id = match[0]['metadata']['matchId']\n",
    "        try:\n",
    "            win = match[0]['info']['teams'][0]['win']\n",
    "        except:\n",
    "            pass\n",
    "        blue_turrets_down = 0\n",
    "        red_turrets_down = 0\n",
    "        blue_team_kills = 0\n",
    "        red_team_kills = 0\n",
    "        blue_team_drags = 0\n",
    "        red_team_drags = 0\n",
    "        blue_team_barons = 0\n",
    "        red_team_barons = 0\n",
    "        blue_team_inhibs = 0\n",
    "        red_team_inhibs = 0\n",
    "        frame_num = 1\n",
    "        for frame in match[1]['info']['frames'][1:]:\n",
    "            for event in frame['events']:\n",
    "                if event['type'] == 'BUILDING_KILL':\n",
    "                    if event['buildingType'] == 'TOWER_BUILDING':\n",
    "                        if event['teamId'] == 100:\n",
    "                            blue_turrets_down += 1\n",
    "                        if event['teamId'] == 200:\n",
    "                            red_turrets_down += 1\n",
    "                    if event['buildingType'] == 'INHIBITOR_BUILDING':\n",
    "                        if str(event['killerId']) in blue_team_participants:\n",
    "                            blue_team_inhibs += 1\n",
    "                        if str(event['killerId']) in red_team_participants:\n",
    "                            red_team_inhibs += 1\n",
    "                elif event['type'] == 'CHAMPION_KILL':\n",
    "                    if str(event['killerId']) in blue_team_participants:\n",
    "                        blue_team_kills += 1\n",
    "                    if str(event['killerId']) in red_team_participants:\n",
    "                        red_team_kills += 1\n",
    "                elif event['type'] == 'ELITE_MONSTER_KILL':\n",
    "                    if event['monsterType'] == 'DRAGON':\n",
    "                        if str(event['killerId']) in blue_team_participants:\n",
    "                            blue_team_drags += 1\n",
    "                        if str(event['killerId']) in red_team_participants:\n",
    "                            red_team_drags += 1\n",
    "                    if event['monsterType'] == 'BARON_NASHOR':\n",
    "                        if str(event['killerId']) in blue_team_participants:\n",
    "                            blue_team_barons += 1\n",
    "                        if str(event['killerId']) in red_team_participants:\n",
    "                            red_team_barons += 1\n",
    "                    \n",
    "        \n",
    "            blue_team_gold = 0\n",
    "            red_team_gold = 0\n",
    "            blue_team_level = 0\n",
    "            red_team_level = 0\n",
    "            blue_team_damage = 0\n",
    "            red_team_damage = 0\n",
    "        \n",
    "            #Blue team aggregate stats\n",
    "            for participant_id in blue_team_participants:\n",
    "                participant = frame['participantFrames'][participant_id]\n",
    "                blue_team_gold += participant['totalGold']\n",
    "                blue_team_level += participant['level']\n",
    "                blue_team_damage += participant['damageStats']['totalDamageDoneToChampions']\n",
    "            #Red team aggregate stats    \n",
    "            for participant_id in red_team_participants:\n",
    "                participant = frame['participantFrames'][participant_id]\n",
    "                red_team_gold += participant['totalGold']\n",
    "                red_team_level += participant['level']\n",
    "                red_team_damage += participant['damageStats']['totalDamageDoneToChampions']                                  \n",
    "                                          \n",
    "            #Add Observations to lists                \n",
    "            win_col.append(win)\n",
    "            match_id_col.append(match_id)\n",
    "            blue_turr_down_col.append(blue_turrets_down)\n",
    "            red_turr_down_col.append(red_turrets_down)\n",
    "            blue_team_gold_col.append(blue_team_gold)\n",
    "            red_team_gold_col.append(red_team_gold)\n",
    "            blue_team_level_col.append(blue_team_level)\n",
    "            red_team_level_col.append(red_team_level)\n",
    "            blue_team_damage_col.append(blue_team_damage)\n",
    "            red_team_damage_col.append(red_team_damage)\n",
    "            blue_team_kills_col.append(blue_team_kills)\n",
    "            red_team_kills_col.append(red_team_kills)\n",
    "            blue_team_drags_col.append(blue_team_drags)\n",
    "            red_team_drags_col.append(red_team_drags)\n",
    "            blue_team_barons_col.append(blue_team_barons)\n",
    "            red_team_barons_col.append(red_team_barons)\n",
    "            blue_team_inhibs_col.append(blue_team_inhibs)\n",
    "            red_team_inhibs_col.append(red_team_inhibs)\n",
    "            frame_col.append(frame_num)\n",
    "    \n",
    "            frame_num += 1\n",
    "    matches_df = pd.DataFrame(list(zip(match_id_col, win_col, frame_col,blue_turr_down_col, red_turr_down_col, blue_team_gold_col, red_team_gold_col, \n",
    "                                       blue_team_level_col, red_team_level_col, blue_team_damage_col, red_team_damage_col,\n",
    "                                       blue_team_kills_col, red_team_kills_col, blue_team_drags_col, red_team_drags_col,\n",
    "                                       blue_team_barons_col, red_team_barons_col, blue_team_inhibs_col, red_team_inhibs_col\n",
    "                                      )),\n",
    "               columns =['MatchId', 'Blue_Win', 'Frame_Minute', 'Blue_Turret_Down', 'Red_Turret_Down', 'Blue_Gold', 'Red_Gold', 'Blue_Level', 'Red_Level', \n",
    "                         'Blue_Damage', 'Red_Damage', 'Blue_Kills', 'Red_Kills', 'Blue_Drags', 'Red_Drags', 'Blue_Barons', 'Red_Barons',\n",
    "                         'Blue_Inhibs', 'Red_Inhibs'\n",
    "                        ])\n",
    "    return matches_df"
   ]
  },
  {
   "cell_type": "code",
   "execution_count": 37,
   "id": "3082d5c1-0d78-43cb-b0fb-7c1c1969543e",
   "metadata": {},
   "outputs": [],
   "source": [
    "with open('./data/matches1.pickle', 'rb') as handle:\n",
    "    matches1 = pickle.load(handle)\n",
    "matches_df = extract_match_df(matches1)"
   ]
  },
  {
   "cell_type": "code",
   "execution_count": 41,
   "id": "3ab771fe-530e-4e2c-b1c6-ae2bde33152c",
   "metadata": {},
   "outputs": [],
   "source": [
    "for i in range(2,11):\n",
    "    with open('./data/matches'+str(i)+'.pickle', 'rb') as handle:\n",
    "        matches_temp = pickle.load(handle)\n",
    "    matches_temp_df = extract_match_df(matches_temp)\n",
    "    matches_df = pd.concat([matches_df, matches_temp_df], axis=0)"
   ]
  },
  {
   "cell_type": "code",
   "execution_count": 42,
   "id": "c4ea18fa-5826-43b7-a3ea-e91ff88056bb",
   "metadata": {},
   "outputs": [
    {
     "data": {
      "text/plain": [
       "323248"
      ]
     },
     "execution_count": 42,
     "metadata": {},
     "output_type": "execute_result"
    }
   ],
   "source": [
    "len(matches_df)"
   ]
  },
  {
   "cell_type": "code",
   "execution_count": 43,
   "id": "c7dd25de-f329-4eae-af6f-f28932316b7f",
   "metadata": {},
   "outputs": [],
   "source": [
    "matches_df.to_csv('matches.csv',index=False)"
   ]
  },
  {
   "cell_type": "code",
   "execution_count": null,
   "id": "4d5325eb-39a1-42e2-8ed7-62abc17e73d1",
   "metadata": {},
   "outputs": [],
   "source": []
  }
 ],
 "metadata": {
  "kernelspec": {
   "display_name": "Python 3 (ipykernel)",
   "language": "python",
   "name": "python3"
  },
  "language_info": {
   "codemirror_mode": {
    "name": "ipython",
    "version": 3
   },
   "file_extension": ".py",
   "mimetype": "text/x-python",
   "name": "python",
   "nbconvert_exporter": "python",
   "pygments_lexer": "ipython3",
   "version": "3.9.13"
  }
 },
 "nbformat": 4,
 "nbformat_minor": 5
}
